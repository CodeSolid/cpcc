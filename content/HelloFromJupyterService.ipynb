{
 "cells": [
  {
   "cell_type": "markdown",
   "id": "fdb3c174-2fa1-4703-82e9-aedece3dbce2",
   "metadata": {},
   "source": [
    "# Hello from Jupyter Lab!"
   ]
  },
  {
   "cell_type": "code",
   "execution_count": 1,
   "id": "f3310504-f171-461a-b2c5-422c369aadc3",
   "metadata": {},
   "outputs": [
    {
     "name": "stdout",
     "output_type": "stream",
     "text": [
      "HelloFromJupyterService.ipynb  foopdewop.ipynb\n"
     ]
    }
   ],
   "source": [
    "!ls"
   ]
  },
  {
   "cell_type": "code",
   "execution_count": 2,
   "id": "ce8eb4e3-2885-449a-9100-4da42c5f0a8d",
   "metadata": {},
   "outputs": [
    {
     "name": "stdout",
     "output_type": "stream",
     "text": [
      "/content\n"
     ]
    }
   ],
   "source": [
    "!pwd"
   ]
  },
  {
   "cell_type": "code",
   "execution_count": 3,
   "id": "df0686b8-ae5d-4d92-9d7c-6913ce3b10ae",
   "metadata": {},
   "outputs": [
    {
     "name": "stdout",
     "output_type": "stream",
     "text": [
      "app  boot     dev  home        lib    mnt  proc  run\t sbin  sys  usr\n",
      "bin  content  etc  install.sh  media  opt  root  run.sh  srv   tmp  var\n"
     ]
    }
   ],
   "source": [
    "!ls /"
   ]
  },
  {
   "cell_type": "code",
   "execution_count": null,
   "id": "a76a5127-2506-4d25-9bdd-e46e6c49c08f",
   "metadata": {},
   "outputs": [],
   "source": []
  }
 ],
 "metadata": {
  "kernelspec": {
   "display_name": "Python 3 (ipykernel)",
   "language": "python",
   "name": "python3"
  },
  "language_info": {
   "codemirror_mode": {
    "name": "ipython",
    "version": 3
   },
   "file_extension": ".py",
   "mimetype": "text/x-python",
   "name": "python",
   "nbconvert_exporter": "python",
   "pygments_lexer": "ipython3",
   "version": "3.12.4"
  }
 },
 "nbformat": 4,
 "nbformat_minor": 5
}
